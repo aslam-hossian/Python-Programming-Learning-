{
 "cells": [
  {
   "cell_type": "markdown",
   "id": "56a39aaf",
   "metadata": {},
   "source": [
    "# A Dictionary in Python is a collection of key-pairs.\n",
    "Each key is connected to a value, and we can access the value assiociated with that key.\n",
    "A key value can be a number, a string, a list, or even another Dictionary. \n",
    "A Dictionary is in wrapped {} braces."
   ]
  },
  {
   "cell_type": "markdown",
   "id": "4785937b",
   "metadata": {},
   "source": [
    "# Accessing Values in a Dictionary\n",
    "To get the value associated with a key, give the name of the Dictionary and then place the key inside a set of a square [] brackets."
   ]
  },
  {
   "cell_type": "code",
   "execution_count": null,
   "id": "3c0a9f3a",
   "metadata": {},
   "outputs": [],
   "source": [
    "my_var = {\"color\" : \"White\", \"Points\" : 5}\n",
    "\n",
    "print(\"The Color is : \", my_var[\"color\"])\n",
    "print(f\"The points are : \", my_var[\"Points\"])"
   ]
  },
  {
   "cell_type": "markdown",
   "id": "f55b0e01",
   "metadata": {},
   "source": [
    "# Adding new key value pairs"
   ]
  },
  {
   "cell_type": "code",
   "execution_count": null,
   "id": "4ceecff1",
   "metadata": {},
   "outputs": [],
   "source": [
    "my_var = {\"color_1\" : \"White\", \"Points_1\" : 5}\n",
    "\n",
    "my_var[\"color_2\"] = \"Black\"\n",
    "my_var[\"Points_2\"] = 10\n",
    "\n",
    "print(my_var)\n",
    "print(\"Color_1 is : \", my_var[\"color_1\"])\n",
    "print(\"Color_1 is :\" , my_var[\"color_2\"])\n",
    "print(\"Points_1 is :\" , my_var[\"Points_1\"])\n",
    "print(\"Points_1 is :\" , my_var[\"Points_2\"])"
   ]
  },
  {
   "cell_type": "markdown",
   "id": "14f6f66c",
   "metadata": {},
   "source": [
    "# Adding elements in a empty Dictionary"
   ]
  },
  {
   "cell_type": "code",
   "execution_count": null,
   "id": "27e3332e",
   "metadata": {},
   "outputs": [],
   "source": [
    "my_var = {}\n",
    "\n",
    "my_var[\"Country_1\"] = \"Bangladesh\"\n",
    "my_var[\"Capital_1\"] = \"Dhaka\"\n",
    "my_var[\"Country_2\"] = \"South Korea\"\n",
    "my_var[\"Capital_2\"] = \"Seoul\"\n",
    "\n",
    "print(my_var)"
   ]
  },
  {
   "cell_type": "markdown",
   "id": "adad230d",
   "metadata": {},
   "source": [
    "# Modifying values in Dictionary"
   ]
  },
  {
   "cell_type": "code",
   "execution_count": null,
   "id": "ee765a6e",
   "metadata": {},
   "outputs": [],
   "source": [
    "alien = {\n",
    "    \"x_position\" : 0,\n",
    "    \"y_position\" : 25,\n",
    "    \"speed\" : \"medium\"\n",
    "}\n",
    "\n",
    "if alien[\"speed\"] == \"slow\":\n",
    "    x_increment = 1\n",
    "elif alien[\"speed\"] == \"medium\":\n",
    "    x_increment = 5\n",
    "else:\n",
    "    x_increment = 3\n",
    "    \n",
    "alien[\"x_position\"] = alien[\"x_position\"] + x_increment\n",
    "print(\"New position is :\", alien[\"x_position\"])"
   ]
  },
  {
   "cell_type": "markdown",
   "id": "dcc07e6d",
   "metadata": {},
   "source": [
    "# Removing key value pairs"
   ]
  },
  {
   "cell_type": "code",
   "execution_count": null,
   "id": "dc26ec60",
   "metadata": {},
   "outputs": [],
   "source": [
    "alien = {\n",
    "    \"x_position\" : 0,\n",
    "    \"y_position\" : 25,\n",
    "    \"speed\" : \"medium\"\n",
    "}\n",
    "\n",
    "del alien[\"y_position\"]\n",
    "print(alien)"
   ]
  },
  {
   "cell_type": "code",
   "execution_count": null,
   "id": "31af4b61",
   "metadata": {},
   "outputs": [],
   "source": [
    "alien = {\n",
    "    \"x_position\" : 0,\n",
    "    \"y_position\" : 25,\n",
    "    \"speed\" : \"medium\"\n",
    "}\n",
    "\n",
    "del alien[\"speed\"]\n",
    "print(alien)"
   ]
  },
  {
   "cell_type": "markdown",
   "id": "dee73be9",
   "metadata": {},
   "source": [
    "# Using get to access values\n",
    "We can use get() key to find pairs if we call a unknow pairs and don't want to get error"
   ]
  },
  {
   "cell_type": "code",
   "execution_count": null,
   "id": "8a39df62",
   "metadata": {},
   "outputs": [],
   "source": [
    "Word_Meaning = {\n",
    "\n",
    "    \"Banana\" : \"কলা\",\n",
    "    \"Jackfruits\" : \"কাটাল\",\n",
    "    \"Watermelon\" : \"তরমুজ\",\n",
    "    \"Pineapple\" : \"আনারস\",\n",
    "    \"Guava\" : \"পেআরা\",\n",
    "    \"Mango\" : \"আম\",\n",
    "    \"dog\" : \"কুকুর\",\n",
    "    \"Cat\" : \"বিরাল\",\n",
    "    \"Tiger\" : \"বাগ্\",\n",
    "    \"Panther\" : \"চিতা\",\n",
    "}\n",
    "\n",
    "print(Word_Meaning.get(\"Pineapple\",\"Not Assigned\"))\n"
   ]
  },
  {
   "cell_type": "code",
   "execution_count": null,
   "id": "3dc80129",
   "metadata": {},
   "outputs": [],
   "source": [
    "capitals = {\n",
    "\n",
    "    \"Bangladesh\" : \"Dhaka\",\n",
    "    \"India\" : \"New delli\",\n",
    "    \"Pakistan\" : \"Islamabad\",\n",
    "    \"Srilanka\" : \"Kolombo\",\n",
    "    \"Bhutan\" : \"Thimpo\",\n",
    "    \"Nepal\" : \"Kathmundo\",\n",
    "    \"Thailand\" : \"Bangkok\",\n",
    "    \"Afganistan\" : \"Kabul\",\n",
    "    \"Iraq\" : \"Baghdad\",\n",
    "    \"Spain\" : \"Madrid\",\n",
    "    \"America\" : \"Washington D C\",\n",
    "    \"Canada\" : \"Toronto\",\n",
    "    \"Singapore\" : \"Singapore City\",\n",
    "}\n",
    "\n",
    "print(capitals.get(\"Austria\",\"Not Assigned\"))"
   ]
  },
  {
   "cell_type": "markdown",
   "id": "f16a8a03",
   "metadata": {},
   "source": [
    "# Looping through all key-value pairs\n",
    "We can access our all key-value pairs with items() function"
   ]
  },
  {
   "cell_type": "code",
   "execution_count": null,
   "id": "25eed0a7",
   "metadata": {},
   "outputs": [],
   "source": [
    "user = {\n",
    "    \"user name\" : \"aslam\",\n",
    "    \"first name\": \"md\",\n",
    "    \"middle name\": \"aslam\",\n",
    "    \"last name\" : \"hossain\"  \n",
    "}\n",
    "\n",
    "for key, value in user.items():\n",
    "    print(f\"\\nKey : {key.title()}\")\n",
    "    print(f\"Value : {value.title()}\")"
   ]
  },
  {
   "cell_type": "code",
   "execution_count": null,
   "id": "5450efb9",
   "metadata": {},
   "outputs": [],
   "source": [
    "capitals = {\n",
    "\n",
    "    \"Bangladesh\" : \"Dhaka\",\n",
    "    \"India\" : \"New delli\",\n",
    "    \"Pakistan\" : \"Islamabad\",\n",
    "    \"Srilanka\" : \"Kolombo\",\n",
    "    \"Bhutan\" : \"Thimpo\",\n",
    "    \"Nepal\" : \"Kathmundo\",\n",
    "    \"Thailand\" : \"Bangkok\",\n",
    "    \"Afganistan\" : \"Kabul\",\n",
    "    \"Iraq\" : \"Baghdad\",\n",
    "    \"Spain\" : \"Madrid\",\n",
    "    \"America\" : \"Washington D C\",\n",
    "    \"Canada\" : \"Toronto\",\n",
    "    \"Singapore\" : \"Singapore City\",\n",
    "}\n",
    "\n",
    "for country, capital in capitals.items():\n",
    "    print(f\"\\n{country}'s Capital is {capital}\")"
   ]
  },
  {
   "cell_type": "markdown",
   "id": "10a84e57",
   "metadata": {},
   "source": [
    "# Looping through all Keys and Values\n",
    "We can access our Keys with keys() function and Values with values() function."
   ]
  },
  {
   "cell_type": "code",
   "execution_count": null,
   "id": "9cee2916",
   "metadata": {},
   "outputs": [],
   "source": [
    "Word_Meaning = {\n",
    "\n",
    "    \"Banana\" : \"কলা\",\n",
    "    \"Jackfruits\" : \"কাটাল\",\n",
    "    \"Watermelon\" : \"তরমুজ\",\n",
    "    \"Pineapple\" : \"আনারস\",\n",
    "    \"Guava\" : \"পেআরা\",\n",
    "    \"Mango\" : \"আম\",\n",
    "    \"dog\" : \"কুকুর\",\n",
    "    \"Cat\" : \"বিরাল\",\n",
    "    \"Tiger\" : \"বাগ্\",\n",
    "    \"Panther\" : \"চিতা\",\n",
    "}\n",
    "\n",
    "print(\"Words are ::\")\n",
    "for word in Word_Meaning.keys():\n",
    "    print(\"\\t\" + word)\n",
    "\n",
    "print(\"\\n\"\"Meanings are ::\")\n",
    "for meaning in Word_Meaning.values():\n",
    "    print(\"\\t\" + meaning)"
   ]
  },
  {
   "cell_type": "markdown",
   "id": "94319a1e",
   "metadata": {},
   "source": [
    "# Nesting / A list of Dictionaries\n",
    "Nesting is a powerful feature.\n",
    "If we want to store multiple Dictionaries in a List, or a List of items as a value in a Dictionary"
   ]
  },
  {
   "cell_type": "code",
   "execution_count": null,
   "id": "cd643ce3",
   "metadata": {},
   "outputs": [],
   "source": [
    "country_1 = {\"Name\" : \"Bangladesh\", \"Capital\": \"Dhaka\", \"Currency\" : \"Taka\"}\n",
    "country_2 = {\"Name\" : \"Bangladesh\", \"Capital\": \"Dhaka\", \"Currency\" : \"Dollar\"}\n",
    "country_3 = {\"Name\" : \"Britain\", \"Capital\": \"London\", \"Currency\" : \"Pound\"}\n",
    "country_4 = {\"Name\" : \"Austria\", \"Capital\": \"Vienna\", \"Currency\" : \"Euro\"}\n",
    "\n",
    "Countries = [country_1, country_2, country_3, country_4]\n",
    "\n",
    "for Country in Countries:\n",
    "    print(Country)"
   ]
  },
  {
   "cell_type": "markdown",
   "id": "4ae61d1a",
   "metadata": {},
   "source": [
    "# A List in a Dictonary"
   ]
  },
  {
   "cell_type": "code",
   "execution_count": null,
   "id": "60701100",
   "metadata": {},
   "outputs": [],
   "source": [
    "Burger = {\n",
    "    \n",
    "    \"Name\" : \"Shrimp Burger\",\n",
    "    \"Ingredients\" : [\"Shrimp\", \"Tomatoes\", \"Meonese\", \"Spicies\"]\n",
    "}\n",
    "\n",
    "print(f\"I have ordered a {Burger['Name']} And the Ingredients are : \")\n",
    "for Ingredient in Burger[\"Ingredients\"]:\n",
    "    print(\"\\t\"+Ingredient)"
   ]
  },
  {
   "cell_type": "markdown",
   "id": "fcf6acc5",
   "metadata": {},
   "source": [
    "# A Dictionary in a Dictionary"
   ]
  },
  {
   "cell_type": "code",
   "execution_count": null,
   "id": "0cf5649b",
   "metadata": {},
   "outputs": [],
   "source": [
    "users = {\n",
    "    \n",
    "    \"aeinstein\" : {\"first\" : \"albert\",\n",
    "                  \"last\" : \"aeinstain\",\n",
    "                  \"location\" : \"princeton\"},\n",
    "    \n",
    "    \"mcurie\" : {\"first\" : \"marie\",\n",
    "               \"last\" : \"curie\",\n",
    "               \"location\" : \"paris\"}\n",
    "}\n",
    "\n",
    "for user_name, user_info in users.items():\n",
    "    print(f\"\\nUser Name : {user_name}\")\n",
    "    \n",
    "    full_name = f\"{user_info['first']} {user_info['last']}\"\n",
    "    location = f\"{user_info['location']}\"\n",
    "    \n",
    "    print(f\"\\tFull Name : {full_name.title()}\")\n",
    "    print(f\"\\tLocation : {location.title()}\")\n",
    "    "
   ]
  },
  {
   "cell_type": "code",
   "execution_count": null,
   "id": "5c0fc290",
   "metadata": {},
   "outputs": [],
   "source": []
  }
 ],
 "metadata": {
  "kernelspec": {
   "display_name": "Python 3 (ipykernel)",
   "language": "python",
   "name": "python3"
  },
  "language_info": {
   "codemirror_mode": {
    "name": "ipython",
    "version": 3
   },
   "file_extension": ".py",
   "mimetype": "text/x-python",
   "name": "python",
   "nbconvert_exporter": "python",
   "pygments_lexer": "ipython3",
   "version": "3.9.12"
  }
 },
 "nbformat": 4,
 "nbformat_minor": 5
}
