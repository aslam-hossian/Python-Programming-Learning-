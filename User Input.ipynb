{
 "cells": [
  {
   "cell_type": "markdown",
   "id": "180a6532",
   "metadata": {},
   "source": [
    "# The input() function pauses the program and waits for the user to enter some text. "
   ]
  },
  {
   "cell_type": "code",
   "execution_count": null,
   "id": "502301aa",
   "metadata": {},
   "outputs": [],
   "source": [
    "message = input(\"Tell me something, and I will repeat it back to you : \")\n",
    "print(message)"
   ]
  },
  {
   "cell_type": "markdown",
   "id": "9ed885d6",
   "metadata": {},
   "source": [
    "Each time we use input() function, we should include a clear, easy to follow promt that tells the user exactly what kind of information we are looking for."
   ]
  },
  {
   "cell_type": "code",
   "execution_count": null,
   "id": "42b1bb93",
   "metadata": {},
   "outputs": [],
   "source": [
    "name = input(\"Please enter your name : \")\n",
    "print(f\"Hello! \\nI am {name}\")"
   ]
  },
  {
   "cell_type": "markdown",
   "id": "3fab2044",
   "metadata": {},
   "source": [
    "# Using int() function to accept Numerical input\n",
    "When we use input() function, Python inperprets everything the user enters as a string.\n",
    "To avoid TypeError for Numerical case, we use int() function."
   ]
  },
  {
   "cell_type": "code",
   "execution_count": null,
   "id": "ae9c548b",
   "metadata": {},
   "outputs": [],
   "source": [
    "Age = int(input(\"Please Enter your Age : \"))\n",
    "\n",
    "if Age >= 18:\n",
    "    print(\"You are able to vote\")\n",
    "    \n",
    "else:\n",
    "    print(\"You can not vote\")"
   ]
  },
  {
   "cell_type": "code",
   "execution_count": null,
   "id": "9d252212",
   "metadata": {},
   "outputs": [],
   "source": [
    "number = input(\"Enter a number, and I will tell you if it's Even or Odd : \")\n",
    "number = int(number)\n",
    "\n",
    "if number % 2 == 0:\n",
    "    print(\"You have entered an Even Number\")\n",
    "    \n",
    "else:\n",
    "    print(\"You entered an Odd Number\")"
   ]
  },
  {
   "cell_type": "code",
   "execution_count": null,
   "id": "4c5cc7a4",
   "metadata": {},
   "outputs": [],
   "source": []
  }
 ],
 "metadata": {
  "kernelspec": {
   "display_name": "Python 3 (ipykernel)",
   "language": "python",
   "name": "python3"
  },
  "language_info": {
   "codemirror_mode": {
    "name": "ipython",
    "version": 3
   },
   "file_extension": ".py",
   "mimetype": "text/x-python",
   "name": "python",
   "nbconvert_exporter": "python",
   "pygments_lexer": "ipython3",
   "version": "3.9.12"
  }
 },
 "nbformat": 4,
 "nbformat_minor": 5
}
