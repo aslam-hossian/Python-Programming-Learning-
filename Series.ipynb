{
 "cells": [
  {
   "cell_type": "markdown",
   "id": "2521eecc",
   "metadata": {},
   "source": [
    "# 1+2+3+4+----+n\n",
    "Printing total Sum of the n'th Number"
   ]
  },
  {
   "cell_type": "code",
   "execution_count": 1,
   "id": "0aa35793",
   "metadata": {},
   "outputs": [
    {
     "name": "stdout",
     "output_type": "stream",
     "text": [
      "Enter the value : 100\n",
      "5050\n"
     ]
    }
   ],
   "source": [
    "n = int(input(\"Enter the value : \"))\n",
    "Sum = 0\n",
    "for x in range(1,n+1,1): \n",
    "    Sum = Sum + x\n",
    "print(Sum)"
   ]
  },
  {
   "cell_type": "markdown",
   "id": "2079310f",
   "metadata": {},
   "source": [
    "# 2+4+6+----+n\n",
    "Printing total Sum of the n'th Even Number"
   ]
  },
  {
   "cell_type": "code",
   "execution_count": 2,
   "id": "b6a07b57",
   "metadata": {},
   "outputs": [
    {
     "name": "stdout",
     "output_type": "stream",
     "text": [
      "Enter the value : 100\n",
      "2550\n"
     ]
    }
   ],
   "source": [
    "n = int(input(\"Enter the value : \"))\n",
    "Sum = 0\n",
    "for x in range(2,n+1,2):\n",
    "    Sum = Sum + x\n",
    "print(Sum)"
   ]
  },
  {
   "cell_type": "markdown",
   "id": "9c6340c1",
   "metadata": {},
   "source": [
    "# 1+3+5----+n\n",
    "Printing total Sum of the n'th Odd Number"
   ]
  },
  {
   "cell_type": "code",
   "execution_count": 3,
   "id": "3a0a8002",
   "metadata": {},
   "outputs": [
    {
     "name": "stdout",
     "output_type": "stream",
     "text": [
      "Enter the value : 100\n",
      "2500\n"
     ]
    }
   ],
   "source": [
    "n = int(input(\"Enter the value : \"))\n",
    "Sum = 0\n",
    "for x in range(1, n+1, 2):\n",
    "    Sum = Sum + x\n",
    "print(Sum)\n"
   ]
  },
  {
   "cell_type": "markdown",
   "id": "d950a92b",
   "metadata": {},
   "source": [
    "# 1^2+2^2+3^2+----+n^2\n",
    "Printing total Sum of Square of n'th Number"
   ]
  },
  {
   "cell_type": "code",
   "execution_count": 4,
   "id": "a2f92916",
   "metadata": {},
   "outputs": [
    {
     "name": "stdout",
     "output_type": "stream",
     "text": [
      "Enter the value : 10\n",
      "385\n"
     ]
    }
   ],
   "source": [
    "n = int(input(\"Enter the value : \"))\n",
    "Sum = 0\n",
    "for x in range(1,n+1,1): \n",
    "    Sum = Sum + x**2\n",
    "print(Sum)"
   ]
  },
  {
   "cell_type": "markdown",
   "id": "762ee90f",
   "metadata": {},
   "source": [
    "# 1 * 2 * 3* 4 *---*n\n",
    "Printing total multyply of n'th number"
   ]
  },
  {
   "cell_type": "code",
   "execution_count": 5,
   "id": "df772715",
   "metadata": {},
   "outputs": [
    {
     "name": "stdout",
     "output_type": "stream",
     "text": [
      "enter the value : 10\n",
      "3628800\n"
     ]
    }
   ],
   "source": [
    "n = int(input(\"enter the value : \"))\n",
    "Total = 1\n",
    "for x in range(1,n+1,1):\n",
    "    Total = Total * x\n",
    "print(Total)"
   ]
  },
  {
   "cell_type": "markdown",
   "id": "4f1306ac",
   "metadata": {},
   "source": [
    "# Printing factorial of a number"
   ]
  },
  {
   "cell_type": "code",
   "execution_count": 6,
   "id": "808402b0",
   "metadata": {},
   "outputs": [
    {
     "name": "stdout",
     "output_type": "stream",
     "text": [
      "enter the value : 10\n",
      "3628800\n"
     ]
    }
   ],
   "source": [
    "n = int(input(\"enter the value : \"))\n",
    "factorial = 1\n",
    "for x in range(n): \n",
    "    factorial= factorial * n\n",
    "    n = n - 1\n",
    "print(factorial)"
   ]
  },
  {
   "cell_type": "markdown",
   "id": "7f7ff433",
   "metadata": {},
   "source": [
    "# Checking the entered number either \"Prime\" or \"Not Prime\""
   ]
  },
  {
   "cell_type": "code",
   "execution_count": 7,
   "id": "45fe5b9e",
   "metadata": {},
   "outputs": [
    {
     "name": "stdout",
     "output_type": "stream",
     "text": [
      "Enter the value : 99\n",
      "The entered number is NOT PRIME\n",
      "program done\n"
     ]
    }
   ],
   "source": [
    "a = int(input(\"Enter the value : \"))\n",
    "i = 0\n",
    "for x in range(2,a):\n",
    "    if a % x == 0:\n",
    "        i = i + 1\n",
    "if i != 0:\n",
    "    print(\"The entered number is NOT PRIME\")\n",
    "else:\n",
    "    print(\"The entered number is PRIME\")\n",
    "\n",
    "print(\"program done\")"
   ]
  },
  {
   "cell_type": "code",
   "execution_count": null,
   "id": "df589286",
   "metadata": {},
   "outputs": [],
   "source": []
  }
 ],
 "metadata": {
  "kernelspec": {
   "display_name": "Python 3 (ipykernel)",
   "language": "python",
   "name": "python3"
  },
  "language_info": {
   "codemirror_mode": {
    "name": "ipython",
    "version": 3
   },
   "file_extension": ".py",
   "mimetype": "text/x-python",
   "name": "python",
   "nbconvert_exporter": "python",
   "pygments_lexer": "ipython3",
   "version": "3.9.12"
  }
 },
 "nbformat": 4,
 "nbformat_minor": 5
}
