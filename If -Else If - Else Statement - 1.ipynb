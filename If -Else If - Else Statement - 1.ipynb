{
 "cells": [
  {
   "cell_type": "markdown",
   "id": "1d60ff5d",
   "metadata": {},
   "source": [
    "Python's if statement allows us to examine the current state of program and respond appropriatly to that state"
   ]
  },
  {
   "cell_type": "code",
   "execution_count": 1,
   "id": "ec4b1132",
   "metadata": {},
   "outputs": [
    {
     "name": "stdout",
     "output_type": "stream",
     "text": [
      "This Country is not mentioned in the list\n",
      "Successfully assume the correct Country from the list\n",
      "This Country is not mentioned in the list\n",
      "This Country is not mentioned in the list\n",
      "This Country is not mentioned in the list\n",
      "This Country is not mentioned in the list\n"
     ]
    }
   ],
   "source": [
    "Countreis = [\"USA\", \"Canada\", \"Australia\", \"Germany\", \"France\", \"Austria\"]\n",
    "\n",
    "for Country in Countreis:\n",
    "    if Country == \"Canada\":\n",
    "        print(\"Successfully assume the correct Country from the list\")\n",
    "        \n",
    "    else:\n",
    "        print(\"This Country is not mentioned in the list\")"
   ]
  },
  {
   "cell_type": "code",
   "execution_count": 2,
   "id": "ad4b1d56",
   "metadata": {},
   "outputs": [
    {
     "name": "stdout",
     "output_type": "stream",
     "text": [
      "USA\n",
      "canada\n",
      "australia\n",
      "germany\n",
      "france\n",
      "austria\n"
     ]
    }
   ],
   "source": [
    "Countreis = [\"USA\", \"Canada\", \"Australia\", \"Germany\", \"France\", \"Austria\"]\n",
    "\n",
    "for Country in Countreis:\n",
    "    if Country == \"USA\":\n",
    "        print(Country)\n",
    "        \n",
    "    else:\n",
    "        print(Country.lower())\n"
   ]
  },
  {
   "cell_type": "code",
   "execution_count": 3,
   "id": "11364476",
   "metadata": {},
   "outputs": [
    {
     "data": {
      "text/plain": [
       "True"
      ]
     },
     "execution_count": 3,
     "metadata": {},
     "output_type": "execute_result"
    }
   ],
   "source": [
    "# Checking for Equality\n",
    "\n",
    "name = \"Aslam\"\n",
    "name == \"Aslam\""
   ]
  },
  {
   "cell_type": "code",
   "execution_count": 4,
   "id": "437a96e0",
   "metadata": {},
   "outputs": [
    {
     "data": {
      "text/plain": [
       "False"
      ]
     },
     "execution_count": 4,
     "metadata": {},
     "output_type": "execute_result"
    }
   ],
   "source": [
    "# Checking for Equality\n",
    "\n",
    "name = \"Aslam\"\n",
    "name == \"Hossain\""
   ]
  },
  {
   "cell_type": "code",
   "execution_count": 5,
   "id": "ffdb1e84",
   "metadata": {},
   "outputs": [
    {
     "name": "stdout",
     "output_type": "stream",
     "text": [
      "Passed with letter grade.\n",
      "Congratulations.\n",
      "You have entered next level.\n",
      "Sorry!\n",
      "You have failed.\n",
      "Try your best on next time.\n"
     ]
    }
   ],
   "source": [
    "#if,else syntex\n",
    "#result verication\n",
    "\n",
    "marks = [90, 25]\n",
    "\n",
    "for mark in marks:\n",
    "    if mark >= 33 and mark >= 80:\n",
    "        print(\"Passed with letter grade.\")\n",
    "        print(\"Congratulations.\")\n",
    "        print(\"You have entered next level.\")\n",
    "\n",
    "    else:\n",
    "        print(\"Sorry!\")\n",
    "        print(\"You have failed.\")\n",
    "        print(\"Try your best on next time.\")\n"
   ]
  },
  {
   "cell_type": "code",
   "execution_count": 6,
   "id": "7317f00c",
   "metadata": {},
   "outputs": [
    {
     "name": "stdout",
     "output_type": "stream",
     "text": [
      "The statement is correct\n"
     ]
    }
   ],
   "source": [
    "# largest number verication\n",
    "\n",
    "num1 = 50\n",
    "num2 = 65\n",
    "\n",
    "if num1 <= num2:\n",
    "    print(\"The statement is correct\")\n",
    "else:\n",
    "    print(\"The statement is not correct \")\n"
   ]
  },
  {
   "cell_type": "code",
   "execution_count": 7,
   "id": "af54e248",
   "metadata": {},
   "outputs": [
    {
     "name": "stdout",
     "output_type": "stream",
     "text": [
      "The number is EVEN\n"
     ]
    }
   ],
   "source": [
    "# Even number verication \n",
    "\n",
    "if num1 % 2 == 0:\n",
    "    print(\"The number is EVEN\")\n",
    "else:\n",
    "    print(\"The number is ODD\")"
   ]
  },
  {
   "cell_type": "code",
   "execution_count": 8,
   "id": "abb360d0",
   "metadata": {},
   "outputs": [
    {
     "name": "stdout",
     "output_type": "stream",
     "text": [
      "This number is ODD\n"
     ]
    }
   ],
   "source": [
    "# Odd number verication \n",
    "\n",
    "if num2 % 2 != 0:\n",
    "    print(\"This number is ODD\")\n",
    "else:\n",
    "    print(\"This number is EVEN\")"
   ]
  },
  {
   "cell_type": "code",
   "execution_count": 11,
   "id": "1d619674",
   "metadata": {},
   "outputs": [
    {
     "name": "stdout",
     "output_type": "stream",
     "text": [
      "Adding ['Bangla', 'English', 'Mathematics', 'Social Science'] and make the parcel ready\n",
      "Adding ['Bangla', 'English', 'Mathematics', 'Social Science'] and make the parcel ready\n",
      "Adding ['Bangla', 'English', 'Mathematics', 'Social Science'] and make the parcel ready\n",
      "Adding ['Bangla', 'English', 'Mathematics', 'Social Science'] and make the parcel ready\n"
     ]
    }
   ],
   "source": [
    "request_books = [\"Bangla\", \"English\", \"Mathematics\", \"Social Science\"]\n",
    "\n",
    "for request_book in request_books:\n",
    "    if request_books == \"Programming\":\n",
    "        print(\"Sorry, We don't have this book now\")\n",
    "        \n",
    "    else:\n",
    "        print(f\"Adding {request_books} and make the parcel ready\")\n",
    "        \n",
    "    "
   ]
  },
  {
   "cell_type": "markdown",
   "id": "0e68b4f4",
   "metadata": {},
   "source": [
    "# Inner if statement"
   ]
  },
  {
   "cell_type": "code",
   "execution_count": 12,
   "id": "c51cc1f1",
   "metadata": {},
   "outputs": [
    {
     "name": "stdout",
     "output_type": "stream",
     "text": [
      "50\n"
     ]
    }
   ],
   "source": [
    "num1 = 30\n",
    "num2 = 20\n",
    "num3 = 50\n",
    "\n",
    "if num1 > num2:\n",
    "    if num1 > num3:\n",
    "        print(num1)\n",
    "    else:\n",
    "        print(num3)\n",
    "\n",
    "if num2 > num1:\n",
    "    if num2 > num3:\n",
    "        print(num2)\n",
    "    else:\n",
    "        print(\"\\\"Nothing\\\"\")"
   ]
  },
  {
   "cell_type": "code",
   "execution_count": null,
   "id": "702d44c5",
   "metadata": {},
   "outputs": [],
   "source": []
  }
 ],
 "metadata": {
  "kernelspec": {
   "display_name": "Python 3 (ipykernel)",
   "language": "python",
   "name": "python3"
  },
  "language_info": {
   "codemirror_mode": {
    "name": "ipython",
    "version": 3
   },
   "file_extension": ".py",
   "mimetype": "text/x-python",
   "name": "python",
   "nbconvert_exporter": "python",
   "pygments_lexer": "ipython3",
   "version": "3.9.12"
  }
 },
 "nbformat": 4,
 "nbformat_minor": 5
}
