{
 "cells": [
  {
   "cell_type": "code",
   "execution_count": 1,
   "id": "14dc2c2e",
   "metadata": {},
   "outputs": [
    {
     "name": "stdout",
     "output_type": "stream",
     "text": [
      "Hello World!\n"
     ]
    }
   ],
   "source": [
    "print(\"Hello World!\")"
   ]
  },
  {
   "cell_type": "code",
   "execution_count": 2,
   "id": "4cbd4ffc",
   "metadata": {},
   "outputs": [
    {
     "name": "stdout",
     "output_type": "stream",
     "text": [
      "Hello World!\n"
     ]
    }
   ],
   "source": [
    "# We can use Variable to store data\n",
    "'''\n",
    "1. Variable name can be contains only Letters, Numbers and Underscores.\n",
    "2. Spaces are not allowed in variable names. \n",
    "3. Avoid using python keywords and function names as variable names.\n",
    "4. Variable name should be short but descriptive.\n",
    "\n",
    "'''\n",
    "var1 = \"Hello World!\"\n",
    "print(var1)"
   ]
  },
  {
   "cell_type": "code",
   "execution_count": 3,
   "id": "2e0ef9e4",
   "metadata": {},
   "outputs": [
    {
     "name": "stdout",
     "output_type": "stream",
     "text": [
      "Hello!,Aslam Hossain\n"
     ]
    }
   ],
   "source": [
    "# Using Variable in string\n",
    "\n",
    "first_name = \"Aslam\"\n",
    "last_name = \"Hossain\"\n",
    "full_name = f\"{first_name} {last_name}\"\n",
    "print(f\"Hello!,{full_name}\")"
   ]
  },
  {
   "cell_type": "code",
   "execution_count": 4,
   "id": "31d3758e",
   "metadata": {},
   "outputs": [
    {
     "name": "stdout",
     "output_type": "stream",
     "text": [
      "The popular programming languages are:\n",
      "Python\n",
      "\tC\n",
      "\t\tJava\n"
     ]
    }
   ],
   "source": [
    "# \\n for new line\n",
    "# \\t for tab\n",
    "print(\"The popular programming languages are:\\nPython\\n\\tC\\n\\t\\tJava\")"
   ]
  },
  {
   "cell_type": "code",
   "execution_count": 5,
   "id": "9a7a0374",
   "metadata": {},
   "outputs": [
    {
     "name": "stdout",
     "output_type": "stream",
     "text": [
      "   Python  \n",
      "   Python\n",
      "Python  \n",
      "Python\n"
     ]
    }
   ],
   "source": [
    "# Stripping Whitespaces\n",
    "# rstrip() for right whitespace\n",
    "# lstrip() for left whitespacce\n",
    "# strip() for all whitespace\n",
    "\n",
    "language = \"   Python  \"\n",
    "print(language)\n",
    "print(language.rstrip())\n",
    "print(language.lstrip())\n",
    "print(language.strip())"
   ]
  },
  {
   "cell_type": "code",
   "execution_count": 6,
   "id": "1f6d1707",
   "metadata": {},
   "outputs": [
    {
     "name": "stdout",
     "output_type": "stream",
     "text": [
      "The boolean value is :  True\n",
      "The boolean value is :  True\n",
      "The boolean value is :  False\n",
      "The boolean value is :  False\n",
      "The boolean value is :  False\n",
      "The boolean value is :  True\n",
      "The boolean value is :  True\n",
      "The boolean value is :  False\n",
      "The boolean value is :  True\n"
     ]
    }
   ],
   "source": [
    "#boolean value indendification:\n",
    "\n",
    "print(\"The boolean value is : \",100>50)\n",
    "print(\"The boolean value is : \",100>=50)\n",
    "print(\"The boolean value is : \",100<50)\n",
    "print(\"The boolean value is : \",100<=50)\n",
    "print(\"The boolean value is : \",100==50)\n",
    "print(\"The boolean value is : \",100!=50)\n",
    "print(\"The boolean value is : \",\"aslam\"==\"aslam\")\n",
    "print(\"The boolean value is : \",\"aslam\"==\"hossain\")\n",
    "print(\"The boolean value is : \",\"aslam\"!=\"hossain\")"
   ]
  },
  {
   "cell_type": "code",
   "execution_count": 7,
   "id": "f0b23090",
   "metadata": {},
   "outputs": [
    {
     "name": "stdout",
     "output_type": "stream",
     "text": [
      "x100.0\n",
      "y50.5\n",
      "The additional value =  150.5\n",
      "The minus value =  49.5\n",
      "The multiplication value =  5050.0\n",
      "The divided value =  1.9801980198019802\n",
      "The modulus is :  49.5\n",
      "The floor of number is :  1.0\n",
      "The exponiantion is :  1e+101\n",
      "The maximum value =  100.0\n",
      "The minimum value =  50.5\n",
      "The power value =  1e+101\n",
      "The squre rote =  10.0\n",
      "The abs value =  6.9\n",
      "The floor value =  6\n",
      "The ceil value =  7\n",
      "The function is : 100.0 % 50.5 = 49.5\n"
     ]
    }
   ],
   "source": [
    "#simple mathematicals  calculations,veriables,ect\n",
    "\n",
    "x = float(input(\"x\"))\n",
    "y = float(input(\"y\"))\n",
    "\n",
    "print(\"The additional value = \",x+y)\n",
    "print(\"The minus value = \",x-y)\n",
    "print(\"The multiplication value = \",x*y)\n",
    "print(\"The divided value = \",x/y)\n",
    "\n",
    "print(\"The modulus is : \",x%y)\n",
    "print(\"The floor of number is : \",x//y)\n",
    "print(\"The exponiantion is : \", x**y)\n",
    "\n",
    "from math import*\n",
    "\n",
    "print(\"The maximum value = \",max(x,y))\n",
    "print(\"The minimum value = \",min(x,y))\n",
    "print(\"The power value = \",pow(x,y))\n",
    "print(\"The squre rote = \",sqrt(x))\n",
    "print(\"The abs value = \",abs(6.9))\n",
    "print(\"The floor value = \",floor(6.9))\n",
    "print(\"The ceil value = \",ceil(6.9))\n",
    "\n",
    "\n",
    "print(\"The function is : \" + f\"{x} % {y} = {x % y}\")\n"
   ]
  },
  {
   "cell_type": "code",
   "execution_count": null,
   "id": "7482a3ec",
   "metadata": {},
   "outputs": [],
   "source": []
  }
 ],
 "metadata": {
  "kernelspec": {
   "display_name": "Python 3 (ipykernel)",
   "language": "python",
   "name": "python3"
  },
  "language_info": {
   "codemirror_mode": {
    "name": "ipython",
    "version": 3
   },
   "file_extension": ".py",
   "mimetype": "text/x-python",
   "name": "python",
   "nbconvert_exporter": "python",
   "pygments_lexer": "ipython3",
   "version": "3.9.12"
  }
 },
 "nbformat": 4,
 "nbformat_minor": 5
}
