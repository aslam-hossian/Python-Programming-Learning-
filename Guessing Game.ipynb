{
 "cells": [
  {
   "cell_type": "code",
   "execution_count": 1,
   "id": "7eba0ef0",
   "metadata": {},
   "outputs": [],
   "source": [
    "from random import randint"
   ]
  },
  {
   "cell_type": "code",
   "execution_count": 2,
   "id": "30553333",
   "metadata": {},
   "outputs": [
    {
     "name": "stdout",
     "output_type": "stream",
     "text": [
      "Enter your number : 3\n",
      "Sorry!\n",
      "You guess the smaller number & the actual number was :  4\n",
      "Enter your number : 5\n",
      "Sorry!\n",
      "You guess the bigger number & the actual number was :  3\n",
      "Enter your number : 7\n",
      "Sorry!\n",
      "You guess the bigger number & the actual number was :  1\n",
      "Enter your number : 2\n",
      "Sorry!\n",
      "You guess the smaller number & the actual number was :  8\n",
      "Enter your number : 6\n",
      "Sorry!\n",
      "You guess the smaller number & the actual number was :  10\n"
     ]
    }
   ],
   "source": [
    "def game():\n",
    "    \n",
    "    for guess_number in range(5):\n",
    "        \n",
    "        actual_number = randint(1,10)\n",
    "    \n",
    "        guess_number = int(input(\"Enter your number : \"))\n",
    "    \n",
    "        if actual_number == guess_number:\n",
    "            print(\"Congratulations!\")\n",
    "            print(\"You guess the correct number\")\n",
    "        \n",
    "        elif actual_number > guess_number:\n",
    "            print(\"Sorry!\")\n",
    "            print(\"You guess the smaller number & the actual number was : \",actual_number)\n",
    "        \n",
    "        else:\n",
    "            print(\"Sorry!\")\n",
    "            print(\"You guess the bigger number & the actual number was : \",actual_number)\n",
    "        \n",
    "game()"
   ]
  },
  {
   "cell_type": "code",
   "execution_count": null,
   "id": "373f4000",
   "metadata": {},
   "outputs": [],
   "source": []
  }
 ],
 "metadata": {
  "kernelspec": {
   "display_name": "Python 3 (ipykernel)",
   "language": "python",
   "name": "python3"
  },
  "language_info": {
   "codemirror_mode": {
    "name": "ipython",
    "version": 3
   },
   "file_extension": ".py",
   "mimetype": "text/x-python",
   "name": "python",
   "nbconvert_exporter": "python",
   "pygments_lexer": "ipython3",
   "version": "3.9.12"
  }
 },
 "nbformat": 4,
 "nbformat_minor": 5
}
