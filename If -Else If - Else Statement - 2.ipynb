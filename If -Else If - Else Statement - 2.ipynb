{
 "cells": [
  {
   "cell_type": "markdown",
   "id": "94795fd2",
   "metadata": {},
   "source": [
    "We use If, else if and else tofether to test more than two possible situations."
   ]
  },
  {
   "cell_type": "code",
   "execution_count": 1,
   "id": "a0345d15",
   "metadata": {},
   "outputs": [
    {
     "name": "stdout",
     "output_type": "stream",
     "text": [
      "Your admission cost is $25.\n"
     ]
    }
   ],
   "source": [
    "age = 15 \n",
    "if age < 4: \n",
    "    print(\"You don't have to pay for admission.\")\n",
    "    \n",
    "elif age < 18:\n",
    "    print(\"Your admission cost is $25.\")\n",
    "\n",
    "else:\n",
    "    print(\"Your admission cost is $40.\")"
   ]
  },
  {
   "cell_type": "code",
   "execution_count": 2,
   "id": "7d23af61",
   "metadata": {},
   "outputs": [
    {
     "name": "stdout",
     "output_type": "stream",
     "text": [
      "Your Admission cost is $25.\n"
     ]
    }
   ],
   "source": [
    "age = 12\n",
    "\n",
    "if age < 4:\n",
    "    cost = 0\n",
    "elif age < 18:\n",
    "    cost = 25\n",
    "else:\n",
    "    cost = 40\n",
    "    \n",
    "print(f\"Your Admission cost is ${cost}.\")"
   ]
  },
  {
   "cell_type": "code",
   "execution_count": 3,
   "id": "0a5d0c45",
   "metadata": {},
   "outputs": [
    {
     "name": "stdout",
     "output_type": "stream",
     "text": [
      "mark : 100\n",
      "STAR\n",
      "Fist class first\n"
     ]
    }
   ],
   "source": [
    "#grade varifications\n",
    "\n",
    "mark = int(input(\"mark : \"))\n",
    "\n",
    "if mark == 100:\n",
    "    print(\"STAR\")\n",
    "    print(\"Fist class first\")\n",
    "elif mark >= 80:\n",
    "    print(\"A+\")\n",
    "    print(\"Excellent result\")\n",
    "elif mark >= 70:\n",
    "    print(\"A\")\n",
    "    print(\"Very good result\")\n",
    "elif mark >= 60:\n",
    "    print(\"A-\")\n",
    "    print(\"Good result\")\n",
    "elif mark >= 50:\n",
    "    print(\"B\")\n",
    "    print(\"Not good result\")\n",
    "elif mark >= 40:\n",
    "    print(\"C\")\n",
    "    print(\"verey poor result\")\n",
    "elif mark >= 33:\n",
    "    print(\"D\")\n",
    "    print(\"Pass\")\n",
    "    print(\"Not satisfied\")\n",
    "\n",
    "else:\n",
    "    print(\"Fail!\")\n",
    "    print(\"Try your best on next time\")"
   ]
  },
  {
   "cell_type": "markdown",
   "id": "ad3b89ac",
   "metadata": {},
   "source": [
    "# Logical operators"
   ]
  },
  {
   "cell_type": "code",
   "execution_count": 4,
   "id": "8ceeba4e",
   "metadata": {},
   "outputs": [
    {
     "name": "stdout",
     "output_type": "stream",
     "text": [
      "100\n"
     ]
    }
   ],
   "source": [
    "# Largest number check\n",
    "\n",
    "number1 = 50\n",
    "number2 = 70\n",
    "number3 = 30\n",
    "number4 = 100\n",
    "\n",
    "if number1 > number2 and number1 > number3 and number1 > number4:\n",
    "    print(number1)\n",
    "\n",
    "elif number2 > number1 and number2 > number3 and number2 > number4:\n",
    "    print(number2)\n",
    "\n",
    "elif number3 > number1 and number3 > number2 and number3 > number4:\n",
    "    print(number3)\n",
    "    \n",
    "else:\n",
    "    print(number4)\n"
   ]
  },
  {
   "cell_type": "code",
   "execution_count": 5,
   "id": "68d1a90a",
   "metadata": {},
   "outputs": [
    {
     "name": "stdout",
     "output_type": "stream",
     "text": [
      "The obtained grade is A\n"
     ]
    }
   ],
   "source": [
    "#letter grade check\n",
    "\"\"\"\n",
    "80-100=A+\n",
    "70-79=A\n",
    "60-69=A-\n",
    "50-59=B\n",
    "40-49=C\n",
    "33-39=D\n",
    "0-32=F\n",
    "\"\"\"\n",
    "\n",
    "marks = 88\n",
    "\n",
    "if 80 <= marks >= 100:\n",
    "    print(\"The obtained grade is A+\")\n",
    "\n",
    "elif 70 <= marks >= 79:\n",
    "    print(\"The obtained grade is A\")\n",
    "\n",
    "elif 60 <= marks >= 69:\n",
    "    print(\"The obtained grade is A-\")\n",
    "\n",
    "elif 50 <= marks >= 59:\n",
    "    print(\"The obtained grade is B\")\n",
    "\n",
    "elif 40 <= marks >= 49:\n",
    "    print(\"The obtained grade is C\")\n",
    "\n",
    "elif 33 <= marks >= 39:\n",
    "    print(\"The obtained grade is A+\")\n",
    "\n",
    "else:\n",
    "    print(\"The student have failed\")"
   ]
  },
  {
   "cell_type": "code",
   "execution_count": 6,
   "id": "5322e996",
   "metadata": {},
   "outputs": [
    {
     "name": "stdout",
     "output_type": "stream",
     "text": [
      "a :80.5\n",
      "b : 60\n",
      "140.5\n",
      "20.5\n",
      "4830.0\n",
      "1.3416666666666666\n",
      "1.0\n",
      "2.2271672002490587e+114\n",
      "20.5\n",
      "80.5\n",
      "60\n",
      "8.972179222463181\n",
      "2.2271672002490587e+114\n",
      "80\n",
      "81\n",
      "80\n",
      "The maximum number is : 80.5\n",
      "The entered number is EVEN\n",
      "Program Done\n"
     ]
    }
   ],
   "source": [
    "\"\"\" variables\n",
    "numericals\n",
    "if/else\n",
    "while\"\"\"\n",
    "\n",
    "a = float(input(\"a :\"))\n",
    "b = int(input(\"b : \"))\n",
    "\n",
    "print(a+b)\n",
    "print(a-b)\n",
    "print(a*b)\n",
    "print(a/b)\n",
    "print(a//b)\n",
    "print(a**b)\n",
    "print(a%b)\n",
    "\n",
    "from math import*\n",
    "print(max(a,b))\n",
    "print(min(a,b))\n",
    "print(sqrt(a))\n",
    "print(pow(a,b))\n",
    "print(floor(a))\n",
    "print(ceil(a))\n",
    "print(round(a))\n",
    "\n",
    "if a>b:\n",
    "    print(\"The maximum number is :\",a)\n",
    "else:\n",
    "    print(\"the minimum number :\",b)\n",
    "\n",
    "if b%2==0:\n",
    "    print(\"The entered number is EVEN\")\n",
    "else:\n",
    "    print(\"The entered number is ODD\")\n",
    "\n",
    "print(\"Program Done\")"
   ]
  },
  {
   "cell_type": "code",
   "execution_count": null,
   "id": "807611ad",
   "metadata": {},
   "outputs": [],
   "source": []
  },
  {
   "cell_type": "code",
   "execution_count": null,
   "id": "26932919",
   "metadata": {},
   "outputs": [],
   "source": []
  }
 ],
 "metadata": {
  "kernelspec": {
   "display_name": "Python 3 (ipykernel)",
   "language": "python",
   "name": "python3"
  },
  "language_info": {
   "codemirror_mode": {
    "name": "ipython",
    "version": 3
   },
   "file_extension": ".py",
   "mimetype": "text/x-python",
   "name": "python",
   "nbconvert_exporter": "python",
   "pygments_lexer": "ipython3",
   "version": "3.9.12"
  }
 },
 "nbformat": 4,
 "nbformat_minor": 5
}
