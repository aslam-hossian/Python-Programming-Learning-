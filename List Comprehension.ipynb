{
 "cells": [
  {
   "cell_type": "code",
   "execution_count": 1,
   "id": "4c0b1cbc",
   "metadata": {},
   "outputs": [
    {
     "name": "stdout",
     "output_type": "stream",
     "text": [
      "[0, 1, 4, 9, 16, 25, 36, 49, 64, 81, 100, 121, 144, 169, 196, 225, 256, 289, 324, 361]\n"
     ]
    }
   ],
   "source": [
    "# List comprehension is allow to generate the square in one line of code\n",
    "\n",
    "squares = [value**2 for value in range(20)]\n",
    "print(squares)"
   ]
  },
  {
   "cell_type": "code",
   "execution_count": 2,
   "id": "825c455c",
   "metadata": {},
   "outputs": [
    {
     "name": "stdout",
     "output_type": "stream",
     "text": [
      "[100, 400, 900, 1600, 2500, 3600, 4900]\n",
      "program done\n",
      "[1, 3, 5, 7]\n"
     ]
    }
   ],
   "source": [
    "# list comprehensions\n",
    "\n",
    "var = [10,20,30,40,50,60,70]\n",
    "result = [i**2 for i in var]\n",
    "print(result)\n",
    "print(\"program done\")\n",
    "\n",
    "var2 = [1,2,3,4,5,6,7]\n",
    "result2 = [x for x in var2 if x%2 != 0]\n",
    "print(result2)\n",
    "\n"
   ]
  },
  {
   "cell_type": "code",
   "execution_count": 3,
   "id": "cc73c210",
   "metadata": {},
   "outputs": [
    {
     "name": "stdout",
     "output_type": "stream",
     "text": [
      "[1, 8, 27, 64, 125, 216]\n",
      "program done\n",
      "[1, 16, 81, 256, 625, 1296]\n",
      "program done\n"
     ]
    }
   ],
   "source": [
    "# map\n",
    "a = [1,2,3,4,5,6]\n",
    "def cube(a):\n",
    "    return a ** 3\n",
    "b = list(map(cube,a))\n",
    "print(b)\n",
    "print(\"program done\")\n",
    "\n",
    "c = list(map(lambda x : x ** 4,a))\n",
    "print(c)\n",
    "print(\"program done\")\n",
    "\n"
   ]
  },
  {
   "cell_type": "code",
   "execution_count": 4,
   "id": "bf87ee73",
   "metadata": {},
   "outputs": [
    {
     "name": "stdout",
     "output_type": "stream",
     "text": [
      "Odd :  [1, 3, 5]\n",
      "program done\n",
      "Even :  [2, 4, 6]\n",
      "program done\n"
     ]
    }
   ],
   "source": [
    "# filter\n",
    "def odd(a):\n",
    "    return a % 2 != 0\n",
    "d = list(filter(odd,a))\n",
    "print(\"Odd : \",d)\n",
    "print(\"program done\")\n",
    "\n",
    "e = list(filter(lambda x : x % 2 == 0, a))\n",
    "print(\"Even : \",e)\n",
    "print(\"program done\")"
   ]
  },
  {
   "cell_type": "code",
   "execution_count": 5,
   "id": "6b95e16e",
   "metadata": {},
   "outputs": [
    {
     "name": "stdout",
     "output_type": "stream",
     "text": [
      "Zip =  [('Probhat', 1, 'Aslam'), ('Shapla', 2, 'Islam'), ('Doel', 3, 'Sobuj'), ('Golap', 4, 'Shamol')]\n",
      "Factorial =  120\n"
     ]
    }
   ],
   "source": [
    "# zip\n",
    "\n",
    "section = [\"Probhat\",\"Shapla\",\"Doel\",\"Golap\"]\n",
    "roll = [1,2,3,4]\n",
    "name = [\"Aslam\",\"Islam\",\"Sobuj\",\"Shamol\"]\n",
    "result = list(zip(section,roll,name))\n",
    "print(\"Zip = \",result)\n",
    "\n",
    "# Recursion\n",
    "def fact(a):\n",
    "    if a == 1:\n",
    "        return 1\n",
    "    else:\n",
    "        return a * fact(a-1)\n",
    "result = fact(5)\n",
    "print(\"Factorial = \" ,result)"
   ]
  },
  {
   "cell_type": "code",
   "execution_count": 6,
   "id": "c6296b26",
   "metadata": {},
   "outputs": [
    {
     "name": "stdout",
     "output_type": "stream",
     "text": [
      "['a', 'b', 'c', 'd']\n",
      "['a', 'b', 'c']\n",
      "['a', 'b']\n",
      "['a']\n",
      "[]\n",
      "No Left\n",
      "program done\n"
     ]
    }
   ],
   "source": [
    "#stack and quaue\n",
    "var = []\n",
    "var.append(\"a\") #append functioin to add some item\n",
    "var.append(\"b\")\n",
    "var.append(\"c\")\n",
    "var.append(\"d\")\n",
    "print(var)\n",
    "var.pop() # pop function to remove item\n",
    "print(var)\n",
    "var.pop()\n",
    "print(var)\n",
    "var.pop()\n",
    "print(var)\n",
    "var.pop()\n",
    "print(var)\n",
    "if not var:\n",
    "    print(\"No Left\")\n",
    "print(\"program done\")"
   ]
  },
  {
   "cell_type": "code",
   "execution_count": 7,
   "id": "167fb94d",
   "metadata": {},
   "outputs": [
    {
     "name": "stdout",
     "output_type": "stream",
     "text": [
      "deque(['e', 'f', 'g', 'h', 'i'])\n",
      "deque(['f', 'g', 'h', 'i'])\n",
      "deque(['g', 'h', 'i'])\n",
      "deque(['h', 'i'])\n",
      "deque(['i'])\n",
      "No Left\n"
     ]
    }
   ],
   "source": [
    "from _collections import deque\n",
    "\n",
    "var2 = deque([\"e\",\"f\",\"g\",\"h\"])\n",
    "var2.append(\"i\")\n",
    "print(var2)\n",
    "var2.popleft()\n",
    "print(var2)\n",
    "var2.popleft() # popleft function to remove item from first\n",
    "print(var2)\n",
    "var2.popleft()\n",
    "print(var2)\n",
    "var2.popleft()\n",
    "print(var2)\n",
    "var2.popleft()\n",
    "if not var2:\n",
    "    print(\"No Left\")"
   ]
  },
  {
   "cell_type": "code",
   "execution_count": null,
   "id": "e114d769",
   "metadata": {},
   "outputs": [],
   "source": []
  }
 ],
 "metadata": {
  "kernelspec": {
   "display_name": "Python 3 (ipykernel)",
   "language": "python",
   "name": "python3"
  },
  "language_info": {
   "codemirror_mode": {
    "name": "ipython",
    "version": 3
   },
   "file_extension": ".py",
   "mimetype": "text/x-python",
   "name": "python",
   "nbconvert_exporter": "python",
   "pygments_lexer": "ipython3",
   "version": "3.9.12"
  }
 },
 "nbformat": 4,
 "nbformat_minor": 5
}
