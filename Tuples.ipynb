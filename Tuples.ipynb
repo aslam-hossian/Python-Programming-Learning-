{
 "cells": [
  {
   "cell_type": "code",
   "execution_count": 1,
   "id": "2f10a0c2",
   "metadata": {},
   "outputs": [],
   "source": [
    "# Tuples is a Data Structure like List\n",
    "# Tuples value cannot be change where List value can change\n",
    "# Use first bracets () for tuples\n",
    "# Tuples is Faster than List"
   ]
  },
  {
   "cell_type": "code",
   "execution_count": 1,
   "id": "2a853667",
   "metadata": {},
   "outputs": [
    {
     "name": "stdout",
     "output_type": "stream",
     "text": [
      "200\n",
      "50\n"
     ]
    }
   ],
   "source": [
    "Dimensions = (200 ,50)\n",
    "print(Dimensions[0])\n",
    "print(Dimensions[1])"
   ]
  },
  {
   "cell_type": "code",
   "execution_count": 4,
   "id": "3f001fec",
   "metadata": {},
   "outputs": [
    {
     "name": "stdout",
     "output_type": "stream",
     "text": [
      "The Dimension is :  200\n",
      "The Dimension is :  50\n"
     ]
    }
   ],
   "source": [
    "# We can also use loop to print \n",
    "Dimensions = (200, 50)\n",
    "for dimension in Dimensions:\n",
    "    print(\"The Dimension is : \",dimension)"
   ]
  },
  {
   "cell_type": "code",
   "execution_count": 5,
   "id": "104f38e1",
   "metadata": {},
   "outputs": [
    {
     "name": "stdout",
     "output_type": "stream",
     "text": [
      "Bangladesh\n",
      "India\n",
      "Pakistan\n",
      "Srilanka\n",
      "Nepal\n"
     ]
    }
   ],
   "source": [
    "# Another emamples\n",
    "\n",
    "Countries = (\"Bangladesh\", \"India\", \"Pakistan\", \"Srilanka\", \"Nepal\")\n",
    "for country in Countries:\n",
    "    print(country)"
   ]
  },
  {
   "cell_type": "code",
   "execution_count": 10,
   "id": "40297aa9",
   "metadata": {},
   "outputs": [
    {
     "name": "stdout",
     "output_type": "stream",
     "text": [
      "The length of Countries is : 5\n",
      "Bangladesh\n",
      "India\n",
      "Pakistan\n",
      "Srilanka\n",
      "Nepal\n"
     ]
    }
   ],
   "source": [
    "Countries = (\"Bangladesh\", \"India\", \"Pakistan\", \"Srilanka\", \"Nepal\")\n",
    "print(\"The length of Countries is :\", len(Countries))\n",
    "print(Countries[0])\n",
    "print(Countries[1])\n",
    "print(Countries[2])\n",
    "print(Countries[3])\n",
    "print(Countries[4])"
   ]
  },
  {
   "cell_type": "code",
   "execution_count": 11,
   "id": "7dc7a937",
   "metadata": {},
   "outputs": [
    {
     "name": "stdout",
     "output_type": "stream",
     "text": [
      "Shamol, Younus , Shamim\n",
      "('Aslam', 'hossain', 'Islam', 'Sobuj')\n",
      "('hossain', 'Islam', 'Sobuj')\n",
      "Sobuj\n",
      "program done\n",
      "a = 24\n",
      "('h = 23', 'i = 20', 's = 18')\n",
      "('i = 20', 's = 18')\n",
      "s = 18\n"
     ]
    }
   ],
   "source": [
    "# tuples structure\n",
    "\n",
    "Names  = (\n",
    "\n",
    "    (\"Shamol,\"\n",
    "     \" Younus ,\"\n",
    "     \" Shamim\"),\n",
    "    \"Aslam\",\"hossain\", \"Islam\",\"Sobuj\"\n",
    "\n",
    ")\n",
    "\n",
    "print(names[0])\n",
    "print(names[1:])\n",
    "print(names[2:])\n",
    "print(names[-1])\n",
    "print(\"program done\")"
   ]
  },
  {
   "cell_type": "code",
   "execution_count": null,
   "id": "0a6ea58d",
   "metadata": {},
   "outputs": [],
   "source": [
    "Age = (\n",
    "    (\"a = 24\"),\n",
    "    (\"h = 23\"),\n",
    "    (\"i = 20\"),\n",
    "    (\"s = 18\"),\n",
    ")\n",
    "\n",
    "print(Age[0])\n",
    "print(Age[1:])\n",
    "print(Age[2:])\n",
    "print(Age[-1])"
   ]
  }
 ],
 "metadata": {
  "kernelspec": {
   "display_name": "Python 3 (ipykernel)",
   "language": "python",
   "name": "python3"
  },
  "language_info": {
   "codemirror_mode": {
    "name": "ipython",
    "version": 3
   },
   "file_extension": ".py",
   "mimetype": "text/x-python",
   "name": "python",
   "nbconvert_exporter": "python",
   "pygments_lexer": "ipython3",
   "version": "3.9.12"
  }
 },
 "nbformat": 4,
 "nbformat_minor": 5
}
