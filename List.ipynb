{
 "cells": [
  {
   "cell_type": "code",
   "execution_count": 1,
   "id": "76e01189",
   "metadata": {},
   "outputs": [],
   "source": [
    "# List : A list is a collection of items in a particular order. We can make a list that includes the letters of the alphabet, the digits from 0~9, or the names of all of the people."
   ]
  },
  {
   "cell_type": "code",
   "execution_count": 2,
   "id": "9d7e3e61",
   "metadata": {},
   "outputs": [
    {
     "name": "stdout",
     "output_type": "stream",
     "text": [
      "['trek', 'cannodale', 'redline', 'specialized']\n"
     ]
    }
   ],
   "source": [
    "bicycles = [\"trek\", \"cannodale\", \"redline\", \"specialized\"]\n",
    "print(bicycles)"
   ]
  },
  {
   "cell_type": "markdown",
   "id": "9449d67f",
   "metadata": {},
   "source": [
    "# Accessing elements in list"
   ]
  },
  {
   "cell_type": "code",
   "execution_count": 3,
   "id": "60b14b35",
   "metadata": {},
   "outputs": [
    {
     "name": "stdout",
     "output_type": "stream",
     "text": [
      "trek\n",
      "cannodale\n",
      "redline\n",
      "specialized\n",
      "Trek\n",
      "Cannodale\n",
      "Redline\n",
      "Specialized\n"
     ]
    }
   ],
   "source": [
    "# Index position start from '0'\n",
    "# Last item in list start from '-1'\n",
    "# Call index number when we ask for a single item\n",
    "# We can use string method to capitalized a item\n",
    "\n",
    "print(bicycles[0])\n",
    "print(bicycles[1])\n",
    "print(bicycles[2])\n",
    "print(bicycles[3])\n",
    "\n",
    "# We can use title() method for Upercase\n",
    "print(bicycles[0].title())\n",
    "print(bicycles[1].title())\n",
    "print(bicycles[2].title())\n",
    "print(bicycles[3].title())"
   ]
  },
  {
   "cell_type": "code",
   "execution_count": 4,
   "id": "fce4de87",
   "metadata": {},
   "outputs": [
    {
     "name": "stdout",
     "output_type": "stream",
     "text": [
      "My first bicycle was a Trek\n"
     ]
    }
   ],
   "source": [
    "# We can use indivisual values from a list\n",
    "\n",
    "show = f\"My first bicycle was a {bicycles[0].title()}\"\n",
    "print(show)"
   ]
  },
  {
   "cell_type": "code",
   "execution_count": 5,
   "id": "a0f9df79",
   "metadata": {},
   "outputs": [
    {
     "name": "stdout",
     "output_type": "stream",
     "text": [
      "My first bicycle was a  Trek\n"
     ]
    }
   ],
   "source": [
    "print(\"My first bicycle was a \", bicycles[0].title())"
   ]
  },
  {
   "cell_type": "code",
   "execution_count": 6,
   "id": "66737df7",
   "metadata": {},
   "outputs": [
    {
     "name": "stdout",
     "output_type": "stream",
     "text": [
      "['honda', 'yamaha', 'suzuki']\n",
      "['ducati', 'yamaha', 'suzuki']\n"
     ]
    }
   ],
   "source": [
    "# Change the item name in list\n",
    "\n",
    "motorcycles = [\"honda\",\"yamaha\", \"suzuki\"]\n",
    "print(motorcycles)\n",
    "motorcycles[0] = \"ducati\"\n",
    "print(motorcycles)"
   ]
  },
  {
   "cell_type": "code",
   "execution_count": 7,
   "id": "3b960750",
   "metadata": {},
   "outputs": [
    {
     "name": "stdout",
     "output_type": "stream",
     "text": [
      "['honda', 'yamaha', 'suzuki']\n",
      "['honda', 'yamaha', 'suzuki', 'ducati']\n"
     ]
    }
   ],
   "source": [
    "# Use 'append' keyword to add a element in list\n",
    "\n",
    "motorcycles = [\"honda\",\"yamaha\", \"suzuki\"]\n",
    "print(motorcycles)\n",
    "motorcycles.append(\"ducati\")\n",
    "print(motorcycles)"
   ]
  },
  {
   "cell_type": "code",
   "execution_count": 8,
   "id": "88f79e13",
   "metadata": {},
   "outputs": [
    {
     "name": "stdout",
     "output_type": "stream",
     "text": [
      "['lamborghini', 'kia', 'hundai', 'ferari']\n"
     ]
    }
   ],
   "source": [
    "# We can define a empty list and then add elements one by one\n",
    "\n",
    "cars = []\n",
    "cars.append(\"lamborghini\")\n",
    "cars.append(\"kia\")\n",
    "cars.append(\"hundai\")\n",
    "cars.append(\"ferari\")\n",
    "\n",
    "print(cars)"
   ]
  },
  {
   "cell_type": "code",
   "execution_count": 9,
   "id": "ee2a6b5c",
   "metadata": {},
   "outputs": [
    {
     "name": "stdout",
     "output_type": "stream",
     "text": [
      "['bmw', 'lamborghini', 'kia', 'hundai', 'ferari']\n"
     ]
    }
   ],
   "source": [
    "# Use 'insert' keyword to insert item\n",
    "cars = ['lamborghini', 'kia', 'hundai', 'ferari']\n",
    "\n",
    "cars.insert(0, \"bmw\")\n",
    "print(cars)"
   ]
  },
  {
   "cell_type": "code",
   "execution_count": 10,
   "id": "b63ce16d",
   "metadata": {},
   "outputs": [
    {
     "name": "stdout",
     "output_type": "stream",
     "text": [
      "['bmw', 'lamborghini', 'kia', 'hundai']\n"
     ]
    }
   ],
   "source": [
    "# We can remove an item from any position in a list using 'del' keyword\n",
    "\n",
    "cars = ['bmw', 'lamborghini', 'kia', 'hundai', 'ferari']\n",
    "\n",
    "del cars[-1]\n",
    "print(cars)"
   ]
  },
  {
   "cell_type": "code",
   "execution_count": 11,
   "id": "7c0bc6c9",
   "metadata": {},
   "outputs": [
    {
     "name": "stdout",
     "output_type": "stream",
     "text": [
      "['bmw', 'lamborghini', 'kia', 'hundai']\n"
     ]
    }
   ],
   "source": [
    "# We can use 'pop' keyword to remove an item\n",
    "cars = ['bmw', 'lamborghini', 'kia', 'hundai', 'ferari']\n",
    "\n",
    "cars.pop()\n",
    "print(cars)"
   ]
  },
  {
   "cell_type": "code",
   "execution_count": 12,
   "id": "2743f36b",
   "metadata": {},
   "outputs": [
    {
     "name": "stdout",
     "output_type": "stream",
     "text": [
      "['lamborghini', 'kia', 'hundai', 'ferari']\n"
     ]
    }
   ],
   "source": [
    "# We can remove ites by value\n",
    "cars = ['bmw', 'lamborghini', 'kia', 'hundai', 'ferari']\n",
    "cars.remove(\"bmw\")\n",
    "print(cars)"
   ]
  },
  {
   "cell_type": "code",
   "execution_count": 13,
   "id": "42c8d8bf",
   "metadata": {},
   "outputs": [
    {
     "name": "stdout",
     "output_type": "stream",
     "text": [
      "['bmw', 'ferari', 'hundai', 'kia', 'lamborghini']\n"
     ]
    }
   ],
   "source": [
    "# Sorting a list permanently wuth sort() method\n",
    "\n",
    "cars = ['bmw', 'lamborghini', 'kia', 'hundai', 'ferari']\n",
    "cars.sort()\n",
    "print(cars)"
   ]
  },
  {
   "cell_type": "code",
   "execution_count": 14,
   "id": "61e9f78e",
   "metadata": {},
   "outputs": [
    {
     "name": "stdout",
     "output_type": "stream",
     "text": [
      "['lamborghini', 'kia', 'hundai', 'ferari', 'bmw']\n"
     ]
    }
   ],
   "source": [
    "# We can reverse the sortten elements\n",
    "\n",
    "cars = ['bmw', 'lamborghini', 'kia', 'hundai', 'ferari']\n",
    "cars.sort(reverse=True)\n",
    "print(cars)"
   ]
  },
  {
   "cell_type": "code",
   "execution_count": 15,
   "id": "22263fa2",
   "metadata": {},
   "outputs": [
    {
     "name": "stdout",
     "output_type": "stream",
     "text": [
      "['ferari', 'hundai', 'kia', 'lamborghini', 'bmw']\n"
     ]
    }
   ],
   "source": [
    "# We can reverse the elements using reverse() method\n",
    "cars = ['bmw', 'lamborghini', 'kia', 'hundai', 'ferari']\n",
    "cars.reverse()\n",
    "print(cars)"
   ]
  },
  {
   "cell_type": "code",
   "execution_count": 16,
   "id": "dc236561",
   "metadata": {},
   "outputs": [
    {
     "name": "stdout",
     "output_type": "stream",
     "text": [
      "5\n"
     ]
    }
   ],
   "source": [
    "# We can find the length of a list using len() function\n",
    "\n",
    "cars = ['bmw', 'lamborghini', 'kia', 'hundai', 'ferari']\n",
    "print(len(cars))"
   ]
  },
  {
   "cell_type": "code",
   "execution_count": 17,
   "id": "1e6c2245",
   "metadata": {},
   "outputs": [
    {
     "name": "stdout",
     "output_type": "stream",
     "text": [
      "Bangladesh\n",
      "Bangladesh, is a Beautiful Country\n",
      "I can not wait to visit Bangladesh\n",
      "India\n",
      "India, is a Beautiful Country\n",
      "I can not wait to visit India\n",
      "Pakistan\n",
      "Pakistan, is a Beautiful Country\n",
      "I can not wait to visit Pakistan\n",
      "South Korea\n",
      "South Korea, is a Beautiful Country\n",
      "I can not wait to visit South Korea\n",
      "Japan\n",
      "Japan, is a Beautiful Country\n",
      "I can not wait to visit Japan\n",
      "China\n",
      "China, is a Beautiful Country\n",
      "I can not wait to visit China\n",
      "America\n",
      "America, is a Beautiful Country\n",
      "I can not wait to visit America\n"
     ]
    }
   ],
   "source": [
    "# Print the in loop\n",
    "\n",
    "countries = [\"Bangladesh\", \"India\", \"Pakistan\", \"South Korea\", \"Japan\", \"China\", \"America\"]\n",
    "for country in countries:\n",
    "    print(country)\n",
    "    print(f\"{country}, is a Beautiful Country\")\n",
    "    print(f\"I can not wait to visit {country}\")"
   ]
  },
  {
   "cell_type": "code",
   "execution_count": 18,
   "id": "bf0da062",
   "metadata": {},
   "outputs": [
    {
     "name": "stdout",
     "output_type": "stream",
     "text": [
      "[1, 2, 3, 4, 5, 6, 7, 8, 9]\n"
     ]
    }
   ],
   "source": [
    "# Making numerical list using range() function\n",
    "list = []\n",
    "for numbers in range(1,10):\n",
    "    list.append(numbers)\n",
    "\n",
    "print(list)"
   ]
  },
  {
   "cell_type": "code",
   "execution_count": 19,
   "id": "39d75358",
   "metadata": {},
   "outputs": [
    {
     "name": "stdout",
     "output_type": "stream",
     "text": [
      "10\n",
      "[7, 5, 4, 3, 3, 3, 2, 1, 1, 0]\n"
     ]
    }
   ],
   "source": [
    "var = [3,2,1,4,7,6,3,1,3,5]\n",
    "\n",
    "print(len(var)) # len function apply to know about that ho wmany items are in list\n",
    "var.append(10) # append function apply to add a items with list\n",
    "var.insert(0,0) # insert function apply to add a item in self position\n",
    "var.sort()       # sort function apply to arrange the list\n",
    "var.reverse()      # reverse function apply to arrang the list from opposit\n",
    "var.remove(6)       # remove function apply to remove an item\n",
    "#var.clear()         # clear function apply to clear all items from list\n",
    "#var.pop()           # pop function apply to delete the last item from list\n",
    "position = var.index(7) # index function apply to find the position of item\n",
    "var2 = var.copy()       # copy function apply to copy all of items\n",
    "count = var.count(3)     # count function apply to count the markable item\n",
    "\n",
    "print(var[1:])"
   ]
  },
  {
   "cell_type": "code",
   "execution_count": 20,
   "id": "279ef871",
   "metadata": {},
   "outputs": [
    {
     "name": "stdout",
     "output_type": "stream",
     "text": [
      "[1, 4, 9, 16, 25, 36, 49, 64, 81, 100, 121, 144, 169, 196, 225, 256, 289, 324, 361]\n"
     ]
    }
   ],
   "source": [
    "values = []\n",
    "for value in range(1,20):\n",
    "    results = value ** 2\n",
    "    values.append(results)\n",
    "    \n",
    "print(values)"
   ]
  },
  {
   "cell_type": "code",
   "execution_count": 21,
   "id": "e6bc66cb",
   "metadata": {},
   "outputs": [
    {
     "name": "stdout",
     "output_type": "stream",
     "text": [
      "The Maximum number in this list is : 70\n",
      "The Minimum number in this list is : 1\n",
      "The sum of this list is : 295\n"
     ]
    }
   ],
   "source": [
    "# We can find the maximum number using max(), minimum number using min() and doing sum using sum() keyword\n",
    "\n",
    "numbers = [1,2,5,14,53,12,10,39,34,55,70]\n",
    "print(\"The Maximum number in this list is :\", max(numbers))\n",
    "print(\"The Minimum number in this list is :\", min(numbers))\n",
    "print(\"The sum of this list is :\", sum(numbers))"
   ]
  },
  {
   "cell_type": "code",
   "execution_count": 23,
   "id": "0051e700",
   "metadata": {},
   "outputs": [
    {
     "name": "stdout",
     "output_type": "stream",
     "text": [
      "['Bangladesh', 'India', 'Pakistan']\n",
      "['India', 'Pakistan', 'South Korea']\n",
      "['Bangladesh', 'India', 'Pakistan', 'South Korea']\n",
      "['Pakistan', 'South Korea', 'Japan', 'China', 'America']\n",
      "['China', 'America']\n"
     ]
    }
   ],
   "source": [
    "# Slicing a list\n",
    "countries = [\"Bangladesh\", \"India\", \"Pakistan\", \"South Korea\", \"Japan\", \"China\", \"America\"]\n",
    "print(countries[0:3])\n",
    "print(countries[1:4])\n",
    "print(countries[:4])\n",
    "print(countries[2:])\n",
    "print(countries[-2:])"
   ]
  },
  {
   "cell_type": "code",
   "execution_count": 24,
   "id": "4d159365",
   "metadata": {},
   "outputs": [
    {
     "name": "stdout",
     "output_type": "stream",
     "text": [
      "Bangladesh\n",
      "India\n",
      "Pakistan\n",
      "These countries are surrounded by me\n"
     ]
    }
   ],
   "source": [
    "# Looping through a slice\n",
    "\n",
    "countries = [\"Bangladesh\", \"India\", \"Pakistan\", \"South Korea\", \"Japan\", \"China\", \"America\"]\n",
    "for country in countries[0:3]:\n",
    "    print(country)\n",
    "print(\"These countries are surrounded by me\")"
   ]
  },
  {
   "cell_type": "code",
   "execution_count": 25,
   "id": "87d07625",
   "metadata": {},
   "outputs": [
    {
     "name": "stdout",
     "output_type": "stream",
     "text": [
      "My favourit dress are :  ['Shirt', 'Trouser', 'Jeans', 'Denim', 'T-Shirts']\n",
      "My friends dress are :  ['Shirt', 'Trouser', 'Jeans', 'Denim', 'T-Shirts']\n"
     ]
    }
   ],
   "source": [
    "# Copying a list\n",
    "\n",
    "my_dress = [\"Shirt\",\"Trouser\",\"Jeans\", \"Denim\", \"T-Shirts\"]\n",
    "frinds_dress = my_dress[:]\n",
    "\n",
    "print(\"My favourit dress are : \",my_dress)\n",
    "print(\"My friends dress are : \", frinds_dress)"
   ]
  },
  {
   "cell_type": "code",
   "execution_count": 26,
   "id": "0d506b3c",
   "metadata": {},
   "outputs": [
    {
     "name": "stdout",
     "output_type": "stream",
     "text": [
      "380\n",
      "10\n",
      "20\n",
      "30\n",
      "40\n",
      "60\n",
      "50\n",
      "70\n",
      "100\n",
      "Program Done\n"
     ]
    }
   ],
   "source": [
    "var = [10,20,30,40,60,50,70,100]\n",
    "total = 0\n",
    "for x in var:\n",
    "    total = total + x\n",
    "print(total)\n",
    "\n",
    "n = len(var)\n",
    "sep = 0\n",
    "while sep < n:\n",
    "    print(var[sep])\n",
    "    sep = sep + 1\n",
    "\n",
    "print(\"Program Done\")"
   ]
  },
  {
   "cell_type": "code",
   "execution_count": null,
   "id": "0a6cc06c",
   "metadata": {},
   "outputs": [],
   "source": []
  }
 ],
 "metadata": {
  "kernelspec": {
   "display_name": "Python 3 (ipykernel)",
   "language": "python",
   "name": "python3"
  },
  "language_info": {
   "codemirror_mode": {
    "name": "ipython",
    "version": 3
   },
   "file_extension": ".py",
   "mimetype": "text/x-python",
   "name": "python",
   "nbconvert_exporter": "python",
   "pygments_lexer": "ipython3",
   "version": "3.9.12"
  }
 },
 "nbformat": 4,
 "nbformat_minor": 5
}
